{
 "cells": [
  {
   "cell_type": "code",
   "execution_count": 2,
   "metadata": {},
   "outputs": [],
   "source": [
    "import pandas as pd\n",
    "import numpy as np\n",
    "\n",
    "df = pd.read_csv('Electric_Vehicle_Population_Data.csv')"
   ]
  },
  {
   "cell_type": "code",
   "execution_count": 3,
   "metadata": {},
   "outputs": [
    {
     "data": {
      "text/plain": [
       "Make\n",
       "TESLA         93931\n",
       "CHEVROLET     15864\n",
       "NISSAN        15011\n",
       "FORD          11486\n",
       "KIA           10090\n",
       "BMW            8820\n",
       "TOYOTA         8543\n",
       "HYUNDAI        6304\n",
       "RIVIAN         6113\n",
       "VOLKSWAGEN     5826\n",
       "Name: count, dtype: int64"
      ]
     },
     "execution_count": 3,
     "metadata": {},
     "output_type": "execute_result"
    }
   ],
   "source": [
    "# 1. Which electric vehicle manufacturers sell the most in Washington?\n",
    "\n",
    "n = 10 # amount of makes in manufacturer_count\n",
    "manufacturer_count = df['Make'].value_counts().head(n)\n",
    "manufacturer_count"
   ]
  },
  {
   "cell_type": "code",
   "execution_count": 4,
   "metadata": {},
   "outputs": [
    {
     "data": {
      "text/plain": [
       "City\n",
       "Seattle      34754\n",
       "Bellevue     10726\n",
       "Vancouver     7726\n",
       "Redmond       7655\n",
       "Bothell       7061\n",
       "Kirkland      6285\n",
       "Renton        6278\n",
       "Sammamish     6173\n",
       "Olympia       5188\n",
       "Tacoma        4656\n",
       "Name: count, dtype: int64"
      ]
     },
     "execution_count": 4,
     "metadata": {},
     "output_type": "execute_result"
    }
   ],
   "source": [
    "# 2. Which city has the most electric vehicles?\n",
    "\n",
    "n = 10\n",
    "city_count = df['City'].value_counts().head(n)\n",
    "city_count # probably correlates with population"
   ]
  },
  {
   "cell_type": "code",
   "execution_count": 5,
   "metadata": {},
   "outputs": [
    {
     "name": "stdout",
     "output_type": "stream",
     "text": [
      "Percentage of cars that are Battery Electric Vehicles: 78.97%\n",
      "Percentage of cars that are Plug-in Hybrid Electric Vehicles: 21.03%\n",
      "Battery Electric Vehicles is the more prevelant type.\n"
     ]
    }
   ],
   "source": [
    "# 3. ⁠What percentage of electric vehicles are hybrid or fully electric? Which is more prevalent?\n",
    "\n",
    "n = 10\n",
    "vehicle_type_count = df['Electric Vehicle Type'].value_counts().head(n)\n",
    "BEV = vehicle_type_count.values[0] # Battery Electric Vehicle\n",
    "PHEV = vehicle_type_count.values[1] # Plug-in Hybrid Electric Vehicle\n",
    "total = BEV + PHEV\n",
    "\n",
    "more_prevelant = \"Battery Electric Vehicles\" if BEV > PHEV else \"Plug-in Hybrid Electric Vehicles\"\n",
    "\n",
    "print(f\"Percentage of cars that are Battery Electric Vehicles: {BEV/total:.2%}\")\n",
    "print(f\"Percentage of cars that are Plug-in Hybrid Electric Vehicles: {PHEV/total:.2%}\")\n",
    "print(f\"{more_prevelant} is the more prevelant type.\")"
   ]
  },
  {
   "cell_type": "code",
   "execution_count": 6,
   "metadata": {},
   "outputs": [
    {
     "name": "stdout",
     "output_type": "stream",
     "text": [
      "Model with the longest electric range:\n",
      "Model: MODEL S\n",
      "Electric Range: 337.0 miles\n",
      "Model with the shortest electric range:\n",
      "Model: PRIUS PLUG-IN\n",
      "Electric Range: 6.0 miles\n"
     ]
    }
   ],
   "source": [
    "# 4. ⁠Which models offer the longest and shortest electric range?\n",
    "\n",
    "df['Electric Range'] = df['Electric Range'].replace(0, np.nan)\n",
    "df = df.dropna(subset=['Electric Range'])\n",
    "\n",
    "df_subset = df[['Model', 'Electric Range']]\n",
    "\n",
    "max_range_index = df_subset['Electric Range'].idxmax()\n",
    "\n",
    "max_range_row = df_subset.loc[max_range_index]\n",
    "\n",
    "print(\"Model with the longest electric range:\")\n",
    "print(\"Model:\", max_range_row['Model'])\n",
    "print(\"Electric Range:\", max_range_row['Electric Range'], \"miles\")\n",
    "\n",
    "min_range_index = df_subset['Electric Range'].idxmin()\n",
    "\n",
    "min_range_row = df_subset.loc[min_range_index]\n",
    "\n",
    "print(\"Model with the shortest electric range:\")\n",
    "print(\"Model:\", min_range_row['Model'])\n",
    "print(\"Electric Range:\", min_range_row['Electric Range'], \"miles\")"
   ]
  },
  {
   "cell_type": "code",
   "execution_count": 8,
   "metadata": {},
   "outputs": [
    {
     "name": "stdout",
     "output_type": "stream",
     "text": [
      "          Model  Electric Range       Range Category\n",
      "0          LEAF            75.0   Short-Range(0-100)\n",
      "1       MODEL S           270.0  Long-Range(201-300)\n",
      "3   PRIUS PRIME            25.0   Short-Range(0-100)\n",
      "4         C-MAX            19.0   Short-Range(0-100)\n",
      "5       MODEL 3           266.0  Long-Range(201-300)\n",
      "6       MODEL S           249.0  Long-Range(201-300)\n",
      "7      WRANGLER            21.0   Short-Range(0-100)\n",
      "8            X3            17.0   Short-Range(0-100)\n",
      "9          LEAF            73.0   Short-Range(0-100)\n",
      "10      MODEL 3           322.0    Ultra-Range(301+)\n"
     ]
    }
   ],
   "source": [
    "# 5. What’s the correlation between vehicle range and the year?\n",
    "n = 10\n",
    "bins = [0, 100, 200, 300, float('inf')] \n",
    "labels = ['Short-Range(0-100)', 'Mid-Range(101-200)', 'Long-Range(201-300)', 'Ultra-Range(301+)']  \n",
    "\n",
    "df['Range Category'] = pd.cut(df['Electric Range'], bins=bins, labels=labels, right=True)\n",
    "\n",
    "print(df[['Model', 'Electric Range', 'Range Category']].head(n))"
   ]
  },
  {
   "cell_type": "code",
   "execution_count": null,
   "metadata": {},
   "outputs": [],
   "source": []
  }
 ],
 "metadata": {
  "kernelspec": {
   "display_name": "Python 3",
   "language": "python",
   "name": "python3"
  },
  "language_info": {
   "codemirror_mode": {
    "name": "ipython",
    "version": 3
   },
   "file_extension": ".py",
   "mimetype": "text/x-python",
   "name": "python",
   "nbconvert_exporter": "python",
   "pygments_lexer": "ipython3",
   "version": "3.12.5"
  }
 },
 "nbformat": 4,
 "nbformat_minor": 2
}
