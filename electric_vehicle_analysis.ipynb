{
 "cells": [
  {
   "cell_type": "code",
   "execution_count": 5,
   "metadata": {},
   "outputs": [],
   "source": [
    "import pandas as pd\n",
    "\n",
    "df = pd.read_csv('Electric_Vehicle_Population_Data.csv')"
   ]
  },
  {
   "cell_type": "code",
   "execution_count": null,
   "metadata": {},
   "outputs": [
    {
     "data": {
      "text/plain": [
       "Make\n",
       "TESLA         93931\n",
       "CHEVROLET     15864\n",
       "NISSAN        15011\n",
       "FORD          11486\n",
       "KIA           10090\n",
       "BMW            8820\n",
       "TOYOTA         8543\n",
       "HYUNDAI        6304\n",
       "RIVIAN         6113\n",
       "VOLKSWAGEN     5826\n",
       "Name: count, dtype: int64"
      ]
     },
     "execution_count": 12,
     "metadata": {},
     "output_type": "execute_result"
    }
   ],
   "source": [
    "# 1. Which electric vehicle manufacturers sell the most in Washington?\n",
    "\n",
    "n = 10 # amount of makes in manufacturer_count\n",
    "manufacturer_count = df['Make'].value_counts().head(n)\n",
    "manufacturer_count"
   ]
  },
  {
   "cell_type": "code",
   "execution_count": null,
   "metadata": {},
   "outputs": [
    {
     "data": {
      "text/plain": [
       "City\n",
       "Seattle      34754\n",
       "Bellevue     10726\n",
       "Vancouver     7726\n",
       "Redmond       7655\n",
       "Bothell       7061\n",
       "Kirkland      6285\n",
       "Renton        6278\n",
       "Sammamish     6173\n",
       "Olympia       5188\n",
       "Tacoma        4656\n",
       "Name: count, dtype: int64"
      ]
     },
     "execution_count": 13,
     "metadata": {},
     "output_type": "execute_result"
    }
   ],
   "source": [
    "# 2. Which city has the most electric vehicles?\n",
    "\n",
    "n = 10\n",
    "city_count = df['City'].value_counts().head(n)\n",
    "city_count # probably correlates with population"
   ]
  },
  {
   "cell_type": "code",
   "execution_count": 27,
   "metadata": {},
   "outputs": [
    {
     "name": "stdout",
     "output_type": "stream",
     "text": [
      "Percentage of cars that are Battery Electric Vehicles: 78.97%\n",
      "Percentage of cars that are Plug-in Hybrid Electric Vehicles: 21.03%\n",
      "Battery Electric Vehicles is the more prevelant type.\n"
     ]
    }
   ],
   "source": [
    "# 3. ⁠What percentage of electric vehicles are hybrid or fully electric? Which is more prevalent?\n",
    "\n",
    "n = 10\n",
    "vehicle_type_count = df['Electric Vehicle Type'].value_counts().head(n)\n",
    "BEV = vehicle_type_count.values[0] # Battery Electric Vehicle\n",
    "PHEV = vehicle_type_count.values[1] # Plug-in Hybrid Electric Vehicle\n",
    "total = BEV + PHEV\n",
    "\n",
    "more_prevelant = \"Battery Electric Vehicles\" if BEV > PHEV else \"Plug-in Hybrid Electric Vehicles\"\n",
    "\n",
    "print(f\"Percentage of cars that are Battery Electric Vehicles: {BEV/total:.2%}\")\n",
    "print(f\"Percentage of cars that are Plug-in Hybrid Electric Vehicles: {PHEV/total:.2%}\")\n",
    "print(f\"{more_prevelant} is the more prevelant type.\")"
   ]
  }
 ],
 "metadata": {
  "kernelspec": {
   "display_name": "Python 3",
   "language": "python",
   "name": "python3"
  },
  "language_info": {
   "codemirror_mode": {
    "name": "ipython",
    "version": 3
   },
   "file_extension": ".py",
   "mimetype": "text/x-python",
   "name": "python",
   "nbconvert_exporter": "python",
   "pygments_lexer": "ipython3",
   "version": "3.12.5"
  }
 },
 "nbformat": 4,
 "nbformat_minor": 2
}
