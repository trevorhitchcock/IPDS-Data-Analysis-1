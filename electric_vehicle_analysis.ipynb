{
 "cells": [
  {
   "cell_type": "code",
   "execution_count": 5,
   "metadata": {},
   "outputs": [],
   "source": [
    "import pandas as pd\n",
    "\n",
    "df = pd.read_csv('Electric_Vehicle_Population_Data.csv')"
   ]
  },
  {
   "cell_type": "code",
   "execution_count": null,
   "metadata": {},
   "outputs": [
    {
     "data": {
      "text/plain": [
       "Make\n",
       "TESLA         93931\n",
       "CHEVROLET     15864\n",
       "NISSAN        15011\n",
       "FORD          11486\n",
       "KIA           10090\n",
       "BMW            8820\n",
       "TOYOTA         8543\n",
       "HYUNDAI        6304\n",
       "RIVIAN         6113\n",
       "VOLKSWAGEN     5826\n",
       "Name: count, dtype: int64"
      ]
     },
     "execution_count": 12,
     "metadata": {},
     "output_type": "execute_result"
    }
   ],
   "source": [
    "# 1. Which electric vehicle manufacturers sell the most in Washington?\n",
    "\n",
    "n = 10 # amount of makes in manufacturer_count\n",
    "manufacturer_count = df['Make'].value_counts().head(n)\n",
    "manufacturer_count"
   ]
  },
  {
   "cell_type": "code",
   "execution_count": null,
   "metadata": {},
   "outputs": [
    {
     "data": {
      "text/plain": [
       "City\n",
       "Seattle      34754\n",
       "Bellevue     10726\n",
       "Vancouver     7726\n",
       "Redmond       7655\n",
       "Bothell       7061\n",
       "Kirkland      6285\n",
       "Renton        6278\n",
       "Sammamish     6173\n",
       "Olympia       5188\n",
       "Tacoma        4656\n",
       "Name: count, dtype: int64"
      ]
     },
     "execution_count": 13,
     "metadata": {},
     "output_type": "execute_result"
    }
   ],
   "source": [
    "# 2. Which city has the most electric vehicles?\n",
    "\n",
    "n = 10\n",
    "city_count = df['City'].value_counts().head(n)\n",
    "city_count # probably correlates with population"
   ]
  },
  {
   "cell_type": "code",
   "execution_count": 27,
   "metadata": {},
   "outputs": [
    {
     "name": "stdout",
     "output_type": "stream",
     "text": [
      "Percentage of cars that are Battery Electric Vehicles: 78.97%\n",
      "Percentage of cars that are Plug-in Hybrid Electric Vehicles: 21.03%\n",
      "Battery Electric Vehicles is the more prevelant type.\n"
     ]
    }
   ],
   "source": [
    "# 3. ⁠What percentage of electric vehicles are hybrid or fully electric? Which is more prevalent?\n",
    "\n",
    "n = 10\n",
    "vehicle_type_count = df['Electric Vehicle Type'].value_counts().head(n)\n",
    "BEV = vehicle_type_count.values[0] # Battery Electric Vehicle\n",
    "PHEV = vehicle_type_count.values[1] # Plug-in Hybrid Electric Vehicle\n",
    "total = BEV + PHEV\n",
    "\n",
    "more_prevelant = \"Battery Electric Vehicles\" if BEV > PHEV else \"Plug-in Hybrid Electric Vehicles\"\n",
    "\n",
    "print(f\"Percentage of cars that are Battery Electric Vehicles: {BEV/total:.2%}\")\n",
    "print(f\"Percentage of cars that are Plug-in Hybrid Electric Vehicles: {PHEV/total:.2%}\")\n",
    "print(f\"{more_prevelant} is the more prevelant type.\")"
   ]
  },
  {
   "cell_type": "code",
   "execution_count": 40,
   "metadata": {},
   "outputs": [
    {
     "data": {
      "text/plain": [
       "(794, 'Kitsap')"
      ]
     },
     "execution_count": 40,
     "metadata": {},
     "output_type": "execute_result"
    }
   ],
   "source": [
    "# 4. Which models offer the longest and shortest electric range?\n",
    "\n",
    "max_range = df['Electric Range'].idxmax()\n",
    "make_of_max_range = df.loc[max_range]['Make']\n",
    "\n",
    "min_range = df['Electric Range'].idxmin()\n",
    "make_of_min_range = df.loc[min_range]['County']\n",
    "\n",
    "max_range,make_of_min_range"
   ]
  },
  {
   "cell_type": "code",
   "execution_count": 45,
   "metadata": {},
   "outputs": [
    {
     "name": "stdout",
     "output_type": "stream",
     "text": [
      "[0.0, 6.0, 8.0, 9.0, 10.0, 11.0, 12.0, 13.0, 14.0, 15.0, 16.0, 17.0, 18.0, 19.0, 20.0, 21.0, 22.0, 23.0, 24.0, 25.0, 26.0, 27.0, 28.0, 29.0, 30.0, 31.0, 32.0, 33.0, 34.0, 35.0, 36.0, 37.0, 38.0, 39.0, 40.0, 41.0, 42.0, 43.0, 46.0, 47.0, 48.0, 51.0, 53.0, 55.0, 56.0, 57.0, 58.0, 59.0, 60.0, 62.0, 68.0, 72.0, 73.0, 74.0, 75.0, 76.0, 81.0, 82.0, 83.0, 84.0, 87.0, 93.0, 95.0, 97.0, 100.0, 103.0, 107.0, 110.0, 111.0, 114.0, 124.0, 125.0, 126.0, 149.0, 150.0, 151.0, 153.0, 170.0, 192.0, 200.0, 203.0, 204.0, 208.0, 210.0, 215.0, 218.0, 220.0, 222.0, 233.0, 234.0, 238.0, 239.0, 245.0, 249.0, 258.0, 259.0, 265.0, 266.0, 270.0, 289.0, 291.0, 293.0, 308.0, 322.0, 330.0, 337.0, nan]\n"
     ]
    }
   ],
   "source": [
    "df.sort_values(by='Electric Range', ascending = False)\n",
    "print(sorted(df['Electric Range'].unique()))"
   ]
  },
  {
   "cell_type": "code",
   "execution_count": null,
   "metadata": {},
   "outputs": [],
   "source": []
  }
 ],
 "metadata": {
  "kernelspec": {
   "display_name": "Python 3",
   "language": "python",
   "name": "python3"
  },
  "language_info": {
   "codemirror_mode": {
    "name": "ipython",
    "version": 3
   },
   "file_extension": ".py",
   "mimetype": "text/x-python",
   "name": "python",
   "nbconvert_exporter": "python",
   "pygments_lexer": "ipython3",
   "version": "3.12.5"
  }
 },
 "nbformat": 4,
 "nbformat_minor": 2
}
